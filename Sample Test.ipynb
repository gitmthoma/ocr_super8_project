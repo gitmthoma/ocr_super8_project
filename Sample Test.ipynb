{
 "cells": [
  {
   "cell_type": "markdown",
   "id": "8f4fa165",
   "metadata": {},
   "source": [
    "### Skript zum Abgleich der Stichprobenvarianten\n",
    "\n",
    "#### Bestimmung eines vergleichbaren Werts zur Evaluation unterschiedlicher Workflows\n",
    "\n",
    "**Step 1:** Read in data sets -gt.txt and -out.txt\n",
    "\n",
    "**Step 2:** Fill dict according to lines\n",
    "\n",
    "**Step 3:** Check dict for the presence of ground truth lines\n",
    "\n",
    "**Step 4:** Check the percent correctness (Sequence Matcher)\n",
    "\n",
    "**Step 5:** Perform for all text files within certain folder & determine percentage value of correct output of ground truth content"
   ]
  },
  {
   "cell_type": "code",
   "execution_count": 1,
   "id": "96300406",
   "metadata": {},
   "outputs": [
    {
     "data": {
      "text/plain": [
       "<module 'ntpath' from 'C:\\\\Users\\\\merle\\\\AppData\\\\Local\\\\Programs\\\\Python\\\\Python310\\\\lib\\\\ntpath.py'>"
      ]
     },
     "execution_count": 1,
     "metadata": {},
     "output_type": "execute_result"
    }
   ],
   "source": [
    "# import OS module to use operating system dependent functionalities\n",
    "import os\n",
    "os.path"
   ]
  },
  {
   "cell_type": "code",
   "execution_count": 3,
   "id": "f875d569",
   "metadata": {},
   "outputs": [],
   "source": [
    "# create list of all files in ./Stichprobe_*\n",
    "file_list = os.listdir(\"./Stichprobe_FILLOUT\") # FILLOUT\n",
    "# create separated list for -gt.txt and -out.txt files\n",
    "file_list_gt=[]\n",
    "file_list_out=[]\n",
    "for file in file_list:\n",
    "    if file.endswith(\"-gt.txt\"):\n",
    "        file_list_gt.append(file)\n",
    "    else:\n",
    "        file_list_out.append(file)"
   ]
  },
  {
   "cell_type": "code",
   "execution_count": 4,
   "id": "aa59572d",
   "metadata": {},
   "outputs": [
    {
     "data": {
      "text/plain": [
       "['tesseract-out.txt']"
      ]
     },
     "execution_count": 4,
     "metadata": {},
     "output_type": "execute_result"
    }
   ],
   "source": [
    "# check output files list\n",
    "file_list_out"
   ]
  },
  {
   "cell_type": "code",
   "execution_count": 5,
   "id": "b8344a4b",
   "metadata": {},
   "outputs": [
    {
     "data": {
      "text/plain": [
       "['tesseract-gt.txt']"
      ]
     },
     "execution_count": 5,
     "metadata": {},
     "output_type": "execute_result"
    }
   ],
   "source": [
    "# check ground truth files list\n",
    "file_list_gt"
   ]
  },
  {
   "cell_type": "code",
   "execution_count": 6,
   "id": "ba2af130",
   "metadata": {},
   "outputs": [
    {
     "name": "stdout",
     "output_type": "stream",
     "text": [
      "{'tesseract-gt.txt': ['Diese Textdatei enthält 5 Absätze, die Tesseract aus den Katalogen hätte herauslesen sollen.', 'Erster Name, zweiter Name und Name drei.', 'Wenn alles korrekt erkannt wird, wäre das super.', 'Best.-Nr. 000 Das hier könnte ein Titel sein. Super 8 Schwarz/Weiß was weiß ich (:D)', 'Genre']}\n"
     ]
    }
   ],
   "source": [
    "# prepare dict with filename as key and lines as values (ground truth)\n",
    "file_dict_gt= {}\n",
    "for file_name in file_list_gt:\n",
    "    file_dict_gt[file_name] = []\n",
    "\n",
    "# for each file in list oft gt.txt files\n",
    "for file_name in file_list_gt:    \n",
    "    # open file\n",
    "    file = open(f'./Stichprobe_FILLOUT/{file_name}',\"r\",encoding='utf-8') # FILLOUT\n",
    "    # for each line in opened file\n",
    "    for line in file:\n",
    "        # remove \\n\n",
    "        line = line.strip(\"\\n\")\n",
    "        if len(line) != 0:\n",
    "            # add line to value of dict key of that file\n",
    "            file_dict_gt[file_name].append(line)\n",
    "    file.close()\n",
    "\n",
    "print(file_dict_gt)\n"
   ]
  },
  {
   "cell_type": "code",
   "execution_count": 7,
   "id": "56ae526b",
   "metadata": {},
   "outputs": [
    {
     "name": "stdout",
     "output_type": "stream",
     "text": [
      "{'tesseract-out.txt': ['Diese Textdatei enthält KEINE Absätze, die Tesseract aus den Katalogen hätte herauslesen sollen.', 'Erster Name, zweiter Name und Name drei.', 'Wenn alles korrekt erkannt wird, wäre das super.', 'Best.-Nr. 000 Das hier könnte ein Titel sein. Super 8 Schwarz/Weiß ', 'Genre']}\n"
     ]
    }
   ],
   "source": [
    "# prepare dict with filename as key and lines as values (output)\n",
    "file_dict_out= {}\n",
    "for file_name in file_list_out:\n",
    "    file_dict_out[file_name] = []\n",
    "\n",
    "# for each file in list oft text.txt files\n",
    "for file_name in file_list_out:    \n",
    "    # open file\n",
    "    file = open(f'./Stichprobe_FILLOUT/{file_name}',\"r\",encoding='utf-8') # FILLOUT\n",
    "    # for each line in file\n",
    "    for line in file:\n",
    "        # remove \\n\n",
    "        line = line.strip(\"\\n\")\n",
    "        if len(line) != 0:\n",
    "            # add line to value of dict key of that file\n",
    "            file_dict_out[file_name].append(line)\n",
    "    file.close()\n",
    "\n",
    "print(file_dict_out)"
   ]
  },
  {
   "cell_type": "code",
   "execution_count": 9,
   "id": "2fcc0c83",
   "metadata": {},
   "outputs": [
    {
     "data": {
      "text/plain": [
       "{'tesseract': []}"
      ]
     },
     "execution_count": 9,
     "metadata": {},
     "output_type": "execute_result"
    }
   ],
   "source": [
    "# create finished dict\n",
    "result_dict = {}\n",
    "for file_name in file_list_gt:\n",
    "    result_dict[file_name.replace(\"-gt.txt\", \"\")] = []\n",
    "# check finished dict\n",
    "result_dict"
   ]
  },
  {
   "cell_type": "code",
   "execution_count": 12,
   "id": "2bda6a92",
   "metadata": {},
   "outputs": [
    {
     "name": "stdout",
     "output_type": "stream",
     "text": [
      "*****************\n",
      "This is gt value:\n",
      "Diese Textdatei enthält 5 Absätze, die Tesseract aus den Katalogen hätte herauslesen sollen.\n",
      "--------------------------------\n",
      "Try fitting with this out value:\n",
      "Diese Textdatei enthält KEINE Absätze, die Tesseract aus den Katalogen hätte herauslesen sollen.\n",
      "The score is: 0.9680851063829787\n",
      "--------------------------------\n",
      "Try fitting with this out value:\n",
      "Erster Name, zweiter Name und Name drei.\n",
      "The score is: 0.22727272727272727\n",
      "--------------------------------\n",
      "Try fitting with this out value:\n",
      "Wenn alles korrekt erkannt wird, wäre das super.\n",
      "The score is: 0.2\n",
      "--------------------------------\n",
      "Try fitting with this out value:\n",
      "Best.-Nr. 000 Das hier könnte ein Titel sein. Super 8 Schwarz/Weiß \n",
      "The score is: 0.1761006289308176\n",
      "--------------------------------\n",
      "Try fitting with this out value:\n",
      "Genre\n",
      "The score is: 0.061855670103092786\n",
      "*****************\n",
      "This is gt value:\n",
      "Erster Name, zweiter Name und Name drei.\n",
      "--------------------------------\n",
      "Try fitting with this out value:\n",
      "Diese Textdatei enthält KEINE Absätze, die Tesseract aus den Katalogen hätte herauslesen sollen.\n",
      "The score is: 0.23529411764705882\n",
      "--------------------------------\n",
      "Try fitting with this out value:\n",
      "Erster Name, zweiter Name und Name drei.\n",
      "The score is: 1.0\n",
      "--------------------------------\n",
      "Try fitting with this out value:\n",
      "Wenn alles korrekt erkannt wird, wäre das super.\n",
      "The score is: 0.3181818181818182\n",
      "--------------------------------\n",
      "Try fitting with this out value:\n",
      "Best.-Nr. 000 Das hier könnte ein Titel sein. Super 8 Schwarz/Weiß \n",
      "The score is: 0.3177570093457944\n",
      "--------------------------------\n",
      "Try fitting with this out value:\n",
      "Genre\n",
      "The score is: 0.17777777777777778\n",
      "*****************\n",
      "This is gt value:\n",
      "Wenn alles korrekt erkannt wird, wäre das super.\n",
      "--------------------------------\n",
      "Try fitting with this out value:\n",
      "Diese Textdatei enthält KEINE Absätze, die Tesseract aus den Katalogen hätte herauslesen sollen.\n",
      "The score is: 0.1388888888888889\n",
      "--------------------------------\n",
      "Try fitting with this out value:\n",
      "Erster Name, zweiter Name und Name drei.\n",
      "The score is: 0.3181818181818182\n",
      "--------------------------------\n",
      "Try fitting with this out value:\n",
      "Wenn alles korrekt erkannt wird, wäre das super.\n",
      "The score is: 1.0\n",
      "--------------------------------\n",
      "Try fitting with this out value:\n",
      "Best.-Nr. 000 Das hier könnte ein Titel sein. Super 8 Schwarz/Weiß \n",
      "The score is: 0.2608695652173913\n",
      "--------------------------------\n",
      "Try fitting with this out value:\n",
      "Genre\n",
      "The score is: 0.1509433962264151\n",
      "*****************\n",
      "This is gt value:\n",
      "Best.-Nr. 000 Das hier könnte ein Titel sein. Super 8 Schwarz/Weiß was weiß ich (:D)\n",
      "--------------------------------\n",
      "Try fitting with this out value:\n",
      "Diese Textdatei enthält KEINE Absätze, die Tesseract aus den Katalogen hätte herauslesen sollen.\n",
      "The score is: 0.2111111111111111\n",
      "--------------------------------\n",
      "Try fitting with this out value:\n",
      "Erster Name, zweiter Name und Name drei.\n",
      "The score is: 0.24193548387096775\n",
      "--------------------------------\n",
      "Try fitting with this out value:\n",
      "Wenn alles korrekt erkannt wird, wäre das super.\n",
      "The score is: 0.21212121212121213\n",
      "--------------------------------\n",
      "Try fitting with this out value:\n",
      "Best.-Nr. 000 Das hier könnte ein Titel sein. Super 8 Schwarz/Weiß \n",
      "The score is: 0.8874172185430463\n",
      "--------------------------------\n",
      "Try fitting with this out value:\n",
      "Genre\n",
      "The score is: 0.06741573033707865\n",
      "*****************\n",
      "This is gt value:\n",
      "Genre\n",
      "--------------------------------\n",
      "Try fitting with this out value:\n",
      "Diese Textdatei enthält KEINE Absätze, die Tesseract aus den Katalogen hätte herauslesen sollen.\n",
      "The score is: 0.07920792079207921\n",
      "--------------------------------\n",
      "Try fitting with this out value:\n",
      "Erster Name, zweiter Name und Name drei.\n",
      "The score is: 0.17777777777777778\n",
      "--------------------------------\n",
      "Try fitting with this out value:\n",
      "Wenn alles korrekt erkannt wird, wäre das super.\n",
      "The score is: 0.1509433962264151\n",
      "--------------------------------\n",
      "Try fitting with this out value:\n",
      "Best.-Nr. 000 Das hier könnte ein Titel sein. Super 8 Schwarz/Weiß \n",
      "The score is: 0.1111111111111111\n",
      "--------------------------------\n",
      "Try fitting with this out value:\n",
      "Genre\n",
      "The score is: 1.0\n"
     ]
    }
   ],
   "source": [
    "# SequenceMatcher: compare similarity of two strings by their ratio\n",
    "from difflib import SequenceMatcher as SM\n",
    "\n",
    "# iterate over keys in out.txt dict\n",
    "for key in file_dict_gt:\n",
    "    gt_value = file_dict_gt[key]\n",
    "    # get beginning of file name and use it to extract value of out.txt dict\n",
    "    out_value = file_dict_out[key.replace(\"gt\", \"out\")]\n",
    "    # for each pair of value compute distance measure \n",
    "    for string_gt in gt_value:\n",
    "        print(\"*****************\")\n",
    "        print(\"This is gt value:\")\n",
    "        print(string_gt)     \n",
    "        best_ratio = 0\n",
    "        for string_out in out_value:\n",
    "            print(\"--------------------------------\")\n",
    "            print(\"Try fitting with this out value:\")\n",
    "            print(string_out)\n",
    "            similarity_ratio = SM(None, string_gt, string_out).ratio()\n",
    "            print(f'The score is: {similarity_ratio}')\n",
    "            if similarity_ratio >= best_ratio:\n",
    "                best_ratio = similarity_ratio\n",
    "                best_string_out = string_out\n",
    "        result_dict[key.replace(\"-gt.txt\", \"\")].append({\n",
    "            'groundtruth_line':string_gt,\n",
    "            'output_line': best_string_out,\n",
    "            'similarity_ratio': best_ratio })\n",
    "\n",
    "        "
   ]
  },
  {
   "cell_type": "code",
   "execution_count": 13,
   "id": "ebffafda",
   "metadata": {},
   "outputs": [
    {
     "data": {
      "text/plain": [
       "{'tesseract': [{'groundtruth_line': 'Diese Textdatei enthält 5 Absätze, die Tesseract aus den Katalogen hätte herauslesen sollen.',\n",
       "   'output_line': 'Diese Textdatei enthält KEINE Absätze, die Tesseract aus den Katalogen hätte herauslesen sollen.',\n",
       "   'similarity_ratio': 0.9680851063829787},\n",
       "  {'groundtruth_line': 'Erster Name, zweiter Name und Name drei.',\n",
       "   'output_line': 'Erster Name, zweiter Name und Name drei.',\n",
       "   'similarity_ratio': 1.0},\n",
       "  {'groundtruth_line': 'Wenn alles korrekt erkannt wird, wäre das super.',\n",
       "   'output_line': 'Wenn alles korrekt erkannt wird, wäre das super.',\n",
       "   'similarity_ratio': 1.0},\n",
       "  {'groundtruth_line': 'Best.-Nr. 000 Das hier könnte ein Titel sein. Super 8 Schwarz/Weiß was weiß ich (:D)',\n",
       "   'output_line': 'Best.-Nr. 000 Das hier könnte ein Titel sein. Super 8 Schwarz/Weiß ',\n",
       "   'similarity_ratio': 0.8874172185430463},\n",
       "  {'groundtruth_line': 'Genre',\n",
       "   'output_line': 'Genre',\n",
       "   'similarity_ratio': 1.0}]}"
      ]
     },
     "execution_count": 13,
     "metadata": {},
     "output_type": "execute_result"
    }
   ],
   "source": [
    "result_dict"
   ]
  },
  {
   "cell_type": "code",
   "execution_count": 14,
   "id": "7b684581",
   "metadata": {},
   "outputs": [],
   "source": [
    "average_page_dict= {}\n",
    "for file_name in file_list_gt:\n",
    "    average_page_dict[file_name.replace(\"-gt.txt\", \"\")] = None\n",
    "\n",
    "sum = 0\n",
    "counter = 0\n",
    "for key in average_page_dict:\n",
    "    # entry is the list value of each page key\n",
    "    for entry in result_dict[key]:\n",
    "        #print(entry['similarity_ratio'])\n",
    "        sum = sum + entry['similarity_ratio']\n",
    "        counter = counter+1\n",
    "    average_page_dict[key] = sum/counter"
   ]
  },
  {
   "cell_type": "code",
   "execution_count": 15,
   "id": "68fef98d",
   "metadata": {},
   "outputs": [
    {
     "data": {
      "text/plain": [
       "{'tesseract': 0.9711004649852051}"
      ]
     },
     "execution_count": 15,
     "metadata": {},
     "output_type": "execute_result"
    }
   ],
   "source": [
    "average_page_dict"
   ]
  },
  {
   "cell_type": "code",
   "execution_count": null,
   "id": "f0fdea30",
   "metadata": {},
   "outputs": [],
   "source": []
  }
 ],
 "metadata": {
  "kernelspec": {
   "display_name": "Python 3 (ipykernel)",
   "language": "python",
   "name": "python3"
  },
  "language_info": {
   "codemirror_mode": {
    "name": "ipython",
    "version": 3
   },
   "file_extension": ".py",
   "mimetype": "text/x-python",
   "name": "python",
   "nbconvert_exporter": "python",
   "pygments_lexer": "ipython3",
   "version": "3.10.8"
  }
 },
 "nbformat": 4,
 "nbformat_minor": 5
}
